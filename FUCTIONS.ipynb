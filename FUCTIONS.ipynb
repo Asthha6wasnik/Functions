{
  "nbformat": 4,
  "nbformat_minor": 0,
  "metadata": {
    "colab": {
      "provenance": []
    },
    "kernelspec": {
      "name": "python3",
      "display_name": "Python 3"
    },
    "language_info": {
      "name": "python"
    }
  },
  "cells": [
    {
      "cell_type": "markdown",
      "source": [
        "# THEROTICAL QUESTION\n",
        "\n",
        "\n"
      ],
      "metadata": {
        "id": "1BP7EsSSbSGi"
      }
    },
    {
      "cell_type": "markdown",
      "source": [
        "1..** What is the difference between a function and a method in Python?**\n",
        "Ans.In Python, methods and functions have similar purposes but differ in important ways. Functions are independent blocks of code that can be called from anywhere, while methods are tied to objects or classes and need an object or class instance to be invoked.\n",
        "Python methods are functions that are associated with an object or a class in Python programming. They are used to perform specific tasks or operations on the data stored within objects or classes"
      ],
      "metadata": {
        "id": "dZ49lNjlU5XQ"
      }
    },
    {
      "cell_type": "markdown",
      "source": [
        "3. **What are the different ways to define and call a function in Python?**\n",
        "Ans.To define a function in Python, you can use the def keyword, followed by the function name, and parentheses containing any parameters:\n",
        "Syntax: def function_name(parameters):\n",
        "**Here are some additional details about defining and calling functions in Python**:\n",
        "Parameters\n",
        "Return statement\n",
        "Anonymous functions\n",
        "Recursion\n",
        "\n"
      ],
      "metadata": {
        "id": "Z2WR3z6iVxry"
      }
    },
    {
      "cell_type": "markdown",
      "source": [
        "4.. **What is the purpose of the `return` statement in a Python function?**\n",
        "Ans.The python return statement is used to return the output from a function. We learned that we can also return a function from another function. Also, expressions are evaluated and then the result is returned from the function\n"
      ],
      "metadata": {
        "id": "AMbBN9LRW0Vo"
      }
    },
    {
      "cell_type": "code",
      "source": [
        "def outer(x):\n",
        "  return x * 10\n",
        "  def my_fuc():\n",
        "    return outer(10)\n",
        "    print(my_fuc())\n"
      ],
      "metadata": {
        "id": "SW6PNzTBXbz7"
      },
      "execution_count": null,
      "outputs": []
    },
    {
      "cell_type": "markdown",
      "source": [
        "5.**What are iterators in Python and how do they differ from iterables?**\n",
        "Ans.An Iterable is basically an object that any user can iterate over. An Iterator is also an object that helps a user in iterating over another object (that is iterable). We can generate an iterator when we pass the object to the iter() method. We use the __next__() method for iterating.\n",
        "Python, an iterator is an object that allows you to iterate over collections of data, such as lists, tuples, dictionaries, and sets."
      ],
      "metadata": {
        "id": "FrksEO6kYfV5"
      }
    },
    {
      "cell_type": "markdown",
      "source": [
        "6.**Explain the concept of generators in Python and how they are defined**\n",
        "Ans.A generator function is a special type of function that returns an iterator object. Instead of using return to send back a single value, generator functions use yield to produce a series of results over time. This allows the function to generate values and pause its execution after each yield, maintaining its state between iterations."
      ],
      "metadata": {
        "id": "W3gmwcBPYxrY"
      }
    },
    {
      "cell_type": "code",
      "source": [
        "def fun(max):\n",
        "    cnt = 1\n",
        "    while cnt <= max:\n",
        "        yield cnt\n",
        "        cnt += 1\n",
        "\n",
        "ctr = fun(5)\n",
        "for n in ctr:\n",
        "    print(n)"
      ],
      "metadata": {
        "colab": {
          "base_uri": "https://localhost:8080/"
        },
        "id": "LhJ7C66JY9GX",
        "outputId": "4d016e6c-9693-40e9-afb0-65398e5b2fde"
      },
      "execution_count": null,
      "outputs": [
        {
          "output_type": "stream",
          "name": "stdout",
          "text": [
            "1\n",
            "2\n",
            "3\n",
            "4\n",
            "5\n"
          ]
        }
      ]
    },
    {
      "cell_type": "markdown",
      "source": [
        "7.**What are the advantages of using generators over regular functions?**\n",
        "Ans.Normal functions in Python are used for traditional computation tasks, with execution proceeding from start to finish, typically returning a single result. On the other hand, generator functions employ the `yield` statement to produce values lazily, preserving their state across multiple calls. This allows generators to efficiently handle large datasets or infinite sequences by yielding values one at a time and pausing execution when necessary, making them a valuable tool for memory-efficient and iterative tasks. In this article, we’ll look into Python generator functions and normal function differences i.e. how different are their syntax, how is data handled, and practical applications."
      ],
      "metadata": {
        "id": "04PizLOdZJL1"
      }
    },
    {
      "cell_type": "markdown",
      "source": [
        "8**.What is a lambda function in Python and when is it typically used?**\n",
        "Ans.Python Lambda Functions are anonymous functions means that the function is without a name. As we already know the def keyword is used to define a normal function in Python. Similarly, the lambda keyword is used to define an anonymous function in Python.\n",
        "\n",
        "\n"
      ],
      "metadata": {
        "id": "rs9V1NpuZmVA"
      }
    },
    {
      "cell_type": "code",
      "source": [
        "# Using lambda\n",
        "sq = lambda x: x ** 2\n",
        "print(sq(3))\n",
        "\n",
        "# Using def\n",
        "def sqdef(x):\n",
        "    return x ** 2\n",
        "print(sqdef(3))"
      ],
      "metadata": {
        "colab": {
          "base_uri": "https://localhost:8080/"
        },
        "id": "LdhF7q78Z9D7",
        "outputId": "fcd1d938-0dcd-4413-8787-a8d7aeb10977"
      },
      "execution_count": null,
      "outputs": [
        {
          "output_type": "stream",
          "name": "stdout",
          "text": [
            "9\n",
            "9\n"
          ]
        }
      ]
    },
    {
      "cell_type": "markdown",
      "source": [
        "9.**Explain the purpose and usage of the `map()` function in Python.**\n",
        "Ans.The map() function is used to apply a given function to every item of an iterable, such as a list or tuple, and returns a map object (which is an iterator).\n",
        "\n",
        "Let’s start with a simple example of using map() to convert a list of strings into a list of integers."
      ],
      "metadata": {
        "id": "9No3jDyaaCgY"
      }
    },
    {
      "cell_type": "code",
      "source": [
        "a = [1, 2, 3, 4]\n",
        "\n",
        "# Using lambda function in \"function\" parameter\n",
        "# to double each number in the list\n",
        "res = list(map(lambda x: x * 2, a))\n",
        "print(res)"
      ],
      "metadata": {
        "colab": {
          "base_uri": "https://localhost:8080/"
        },
        "id": "49-lqFTgaScM",
        "outputId": "5bde602e-cf00-4a29-a060-316ac3cc071e"
      },
      "execution_count": null,
      "outputs": [
        {
          "output_type": "stream",
          "name": "stdout",
          "text": [
            "[2, 4, 6, 8]\n"
          ]
        }
      ]
    },
    {
      "cell_type": "markdown",
      "source": [
        "10.What is the difference between `map()`, `reduce()`, and `filter()` functions in Python?\n",
        "Ans.map applies the function to each element of an array field. filter keeps elements of array fields that match a specified condition. reduce combines an array into a single value."
      ],
      "metadata": {
        "id": "Y99tmwS6p4gr"
      }
    },
    {
      "cell_type": "markdown",
      "source": [
        "# PRACTICAL QUESTION"
      ],
      "metadata": {
        "id": "0K47ZgELba-X"
      }
    },
    {
      "cell_type": "markdown",
      "source": [
        "1. Write a Python function that takes a list of numbers as input and returns the sum of all even numbers in\n",
        "the list."
      ],
      "metadata": {
        "id": "po8yZx3YcS-_"
      }
    },
    {
      "cell_type": "code",
      "source": [
        "a = [1, 2, 3, 4, 5, 6, 7, 8, 9, 10]\n",
        "\n",
        "# Iterate through each element in the list\n",
        "for val in a:\n",
        "\n",
        "    # Checks if a number is divisible by 2 (i.e., even).\n",
        "    if val % 2 == 0:\n",
        "        print(val, end = \" \")"
      ],
      "metadata": {
        "colab": {
          "base_uri": "https://localhost:8080/"
        },
        "id": "b7E6KR2UcvhS",
        "outputId": "f69b8f29-8b24-43cc-d98c-0e349833fb9d"
      },
      "execution_count": null,
      "outputs": [
        {
          "output_type": "stream",
          "name": "stdout",
          "text": [
            "2 4 6 8 10 "
          ]
        }
      ]
    },
    {
      "cell_type": "markdown",
      "source": [
        "2.Create a Python function that accepts a string and returns the reverse of that string."
      ],
      "metadata": {
        "id": "UEIMYYTydcWs"
      }
    },
    {
      "cell_type": "code",
      "source": [
        "str = input(\"ENTER YOUR STRING IS HERE\")\n",
        "print(\"the original string is:\",str)\n",
        "rev_string =\"\"\n",
        "count = len(str)\n",
        "while count > 0:\n",
        "  rev_string += str[count - 1]\n",
        "  count = count -1\n",
        "print(\"the reversed string string using a while loop is:\", rev_string)"
      ],
      "metadata": {
        "colab": {
          "base_uri": "https://localhost:8080/"
        },
        "id": "yzx6N1xecyQ3",
        "outputId": "59d0f0fa-c7f9-422c-a48d-2eeca70698ab"
      },
      "execution_count": null,
      "outputs": [
        {
          "output_type": "stream",
          "name": "stdout",
          "text": [
            "ENTER YOUR STRING IS HEREASTHA\n",
            "the original string is: ASTHA\n",
            "the reversed string string using a while loop is: AHTSA\n"
          ]
        }
      ]
    },
    {
      "cell_type": "markdown",
      "source": [
        "3.. Implement a Python function that takes a list of integers and returns a new list containing the squares of\n",
        "each number."
      ],
      "metadata": {
        "id": "zkt8iDgMdpjl"
      }
    },
    {
      "cell_type": "code",
      "source": [
        "# create a list with 7 integer elements\n",
        "data=[1,2,3,4,5,6,7]\n",
        "\n",
        "# use list comprehension to get square\n",
        "# of odd numbers\n",
        "result = [i*i for i in data if i%2!=0]\n",
        "\n",
        "# display the result\n",
        "print(result)"
      ],
      "metadata": {
        "colab": {
          "base_uri": "https://localhost:8080/"
        },
        "id": "4Px-nEHPd6wZ",
        "outputId": "3840a01d-0e8b-462f-da29-c6d27990d6c3"
      },
      "execution_count": null,
      "outputs": [
        {
          "output_type": "stream",
          "name": "stdout",
          "text": [
            "[1, 9, 25, 49]\n"
          ]
        }
      ]
    },
    {
      "cell_type": "markdown",
      "source": [
        "4.Write a Python function that checks if a given number is prime or not from 1 to 200."
      ],
      "metadata": {
        "id": "DUgyIrNAd-20"
      }
    },
    {
      "cell_type": "code",
      "source": [
        "def is_prime(number):\n",
        "    \"\"\"\n",
        "    Check if a number is prime.\n",
        "\n",
        "    Args:\n",
        "        number (int): The number to check.\n",
        "\n",
        "    Returns:\n",
        "        bool: True if the number is prime, False otherwise.\n",
        "    \"\"\"\n",
        "    if number < 2:\n",
        "        return False\n",
        "    for i in range(2, int(number ** 0.5) + 1):\n",
        "        if number % i == 0:\n",
        "            return False\n",
        "    return True\n",
        "\n",
        "# Example usage\n",
        "for num in range(1, 201):\n",
        "    print(f\"{num} is prime: {is_prime(num)}\")"
      ],
      "metadata": {
        "colab": {
          "base_uri": "https://localhost:8080/"
        },
        "id": "7yvGIvoGf3K8",
        "outputId": "43a7169b-73a1-48f3-b2d9-2c9c6ceac4f1"
      },
      "execution_count": null,
      "outputs": [
        {
          "output_type": "stream",
          "name": "stdout",
          "text": [
            "1 is prime: False\n",
            "2 is prime: True\n",
            "3 is prime: True\n",
            "4 is prime: False\n",
            "5 is prime: True\n",
            "6 is prime: False\n",
            "7 is prime: True\n",
            "8 is prime: False\n",
            "9 is prime: False\n",
            "10 is prime: False\n",
            "11 is prime: True\n",
            "12 is prime: False\n",
            "13 is prime: True\n",
            "14 is prime: False\n",
            "15 is prime: False\n",
            "16 is prime: False\n",
            "17 is prime: True\n",
            "18 is prime: False\n",
            "19 is prime: True\n",
            "20 is prime: False\n",
            "21 is prime: False\n",
            "22 is prime: False\n",
            "23 is prime: True\n",
            "24 is prime: False\n",
            "25 is prime: False\n",
            "26 is prime: False\n",
            "27 is prime: False\n",
            "28 is prime: False\n",
            "29 is prime: True\n",
            "30 is prime: False\n",
            "31 is prime: True\n",
            "32 is prime: False\n",
            "33 is prime: False\n",
            "34 is prime: False\n",
            "35 is prime: False\n",
            "36 is prime: False\n",
            "37 is prime: True\n",
            "38 is prime: False\n",
            "39 is prime: False\n",
            "40 is prime: False\n",
            "41 is prime: True\n",
            "42 is prime: False\n",
            "43 is prime: True\n",
            "44 is prime: False\n",
            "45 is prime: False\n",
            "46 is prime: False\n",
            "47 is prime: True\n",
            "48 is prime: False\n",
            "49 is prime: False\n",
            "50 is prime: False\n",
            "51 is prime: False\n",
            "52 is prime: False\n",
            "53 is prime: True\n",
            "54 is prime: False\n",
            "55 is prime: False\n",
            "56 is prime: False\n",
            "57 is prime: False\n",
            "58 is prime: False\n",
            "59 is prime: True\n",
            "60 is prime: False\n",
            "61 is prime: True\n",
            "62 is prime: False\n",
            "63 is prime: False\n",
            "64 is prime: False\n",
            "65 is prime: False\n",
            "66 is prime: False\n",
            "67 is prime: True\n",
            "68 is prime: False\n",
            "69 is prime: False\n",
            "70 is prime: False\n",
            "71 is prime: True\n",
            "72 is prime: False\n",
            "73 is prime: True\n",
            "74 is prime: False\n",
            "75 is prime: False\n",
            "76 is prime: False\n",
            "77 is prime: False\n",
            "78 is prime: False\n",
            "79 is prime: True\n",
            "80 is prime: False\n",
            "81 is prime: False\n",
            "82 is prime: False\n",
            "83 is prime: True\n",
            "84 is prime: False\n",
            "85 is prime: False\n",
            "86 is prime: False\n",
            "87 is prime: False\n",
            "88 is prime: False\n",
            "89 is prime: True\n",
            "90 is prime: False\n",
            "91 is prime: False\n",
            "92 is prime: False\n",
            "93 is prime: False\n",
            "94 is prime: False\n",
            "95 is prime: False\n",
            "96 is prime: False\n",
            "97 is prime: True\n",
            "98 is prime: False\n",
            "99 is prime: False\n",
            "100 is prime: False\n",
            "101 is prime: True\n",
            "102 is prime: False\n",
            "103 is prime: True\n",
            "104 is prime: False\n",
            "105 is prime: False\n",
            "106 is prime: False\n",
            "107 is prime: True\n",
            "108 is prime: False\n",
            "109 is prime: True\n",
            "110 is prime: False\n",
            "111 is prime: False\n",
            "112 is prime: False\n",
            "113 is prime: True\n",
            "114 is prime: False\n",
            "115 is prime: False\n",
            "116 is prime: False\n",
            "117 is prime: False\n",
            "118 is prime: False\n",
            "119 is prime: False\n",
            "120 is prime: False\n",
            "121 is prime: False\n",
            "122 is prime: False\n",
            "123 is prime: False\n",
            "124 is prime: False\n",
            "125 is prime: False\n",
            "126 is prime: False\n",
            "127 is prime: True\n",
            "128 is prime: False\n",
            "129 is prime: False\n",
            "130 is prime: False\n",
            "131 is prime: True\n",
            "132 is prime: False\n",
            "133 is prime: False\n",
            "134 is prime: False\n",
            "135 is prime: False\n",
            "136 is prime: False\n",
            "137 is prime: True\n",
            "138 is prime: False\n",
            "139 is prime: True\n",
            "140 is prime: False\n",
            "141 is prime: False\n",
            "142 is prime: False\n",
            "143 is prime: False\n",
            "144 is prime: False\n",
            "145 is prime: False\n",
            "146 is prime: False\n",
            "147 is prime: False\n",
            "148 is prime: False\n",
            "149 is prime: True\n",
            "150 is prime: False\n",
            "151 is prime: True\n",
            "152 is prime: False\n",
            "153 is prime: False\n",
            "154 is prime: False\n",
            "155 is prime: False\n",
            "156 is prime: False\n",
            "157 is prime: True\n",
            "158 is prime: False\n",
            "159 is prime: False\n",
            "160 is prime: False\n",
            "161 is prime: False\n",
            "162 is prime: False\n",
            "163 is prime: True\n",
            "164 is prime: False\n",
            "165 is prime: False\n",
            "166 is prime: False\n",
            "167 is prime: True\n",
            "168 is prime: False\n",
            "169 is prime: False\n",
            "170 is prime: False\n",
            "171 is prime: False\n",
            "172 is prime: False\n",
            "173 is prime: True\n",
            "174 is prime: False\n",
            "175 is prime: False\n",
            "176 is prime: False\n",
            "177 is prime: False\n",
            "178 is prime: False\n",
            "179 is prime: True\n",
            "180 is prime: False\n",
            "181 is prime: True\n",
            "182 is prime: False\n",
            "183 is prime: False\n",
            "184 is prime: False\n",
            "185 is prime: False\n",
            "186 is prime: False\n",
            "187 is prime: False\n",
            "188 is prime: False\n",
            "189 is prime: False\n",
            "190 is prime: False\n",
            "191 is prime: True\n",
            "192 is prime: False\n",
            "193 is prime: True\n",
            "194 is prime: False\n",
            "195 is prime: False\n",
            "196 is prime: False\n",
            "197 is prime: True\n",
            "198 is prime: False\n",
            "199 is prime: True\n",
            "200 is prime: False\n"
          ]
        }
      ]
    },
    {
      "cell_type": "markdown",
      "source": [
        "5. Create an iterator class in Python that generates the Fibonacci sequence up to a specified number of\n",
        "terms.\n",
        "Ans."
      ],
      "metadata": {
        "id": "QV6dMZLvgA3w"
      }
    },
    {
      "cell_type": "code",
      "source": [
        "def fibonacci(n):\n",
        "\n",
        "    l = [0,1]\n",
        "    for i in range(2,n):\n",
        "        l.append(l[-1]+l[-2])\n",
        "    return l\n",
        "\n",
        "#Main function\n",
        "if __name__ == \"__main__\":\n",
        "   #defining the total number of elements\n",
        "    n = 10\n",
        "\n",
        "    #calling of function\n",
        "    fibo = fibonacci(n)\n",
        "\n",
        "    #displaying the function\n",
        "    print(\"Fibonacci Series: \",*fibo)"
      ],
      "metadata": {
        "colab": {
          "base_uri": "https://localhost:8080/"
        },
        "id": "5Juk6N5ngTje",
        "outputId": "0bdef730-de4f-4f9a-cef1-eb4e6f3e2cb6"
      },
      "execution_count": null,
      "outputs": [
        {
          "output_type": "stream",
          "name": "stdout",
          "text": [
            "Fibonacci Series:  0 1 1 2 3 5 8 13 21 34\n"
          ]
        }
      ]
    },
    {
      "cell_type": "markdown",
      "source": [
        "6. Write a generator function in Python that yields the powers of 2 up to a given exponent.\n"
      ],
      "metadata": {
        "id": "0iTDLJtPgXKG"
      }
    },
    {
      "cell_type": "code",
      "source": [
        "def powers_of_two(max_exponent):\n",
        "    \"\"\"Generator that yields powers of 2 up to 2^max_exponent.\"\"\"\n",
        "    for exponent in range(max_exponent + 1):\n",
        "        yield 2 ** exponent\n",
        "\n",
        "# Example usage:\n",
        "for value in powers_of_two(5):\n",
        "    print(value)"
      ],
      "metadata": {
        "colab": {
          "base_uri": "https://localhost:8080/"
        },
        "id": "Mmkn45f6j33Z",
        "outputId": "23429865-336a-42fe-d90b-abb30cee5caa"
      },
      "execution_count": null,
      "outputs": [
        {
          "output_type": "stream",
          "name": "stdout",
          "text": [
            "1\n",
            "2\n",
            "4\n",
            "8\n",
            "16\n",
            "32\n"
          ]
        }
      ]
    },
    {
      "cell_type": "markdown",
      "source": [
        "7. Implement a generator function that reads a file line by line and yields each line as a string."
      ],
      "metadata": {
        "id": "kbf4cBw-j7Zo"
      }
    },
    {
      "cell_type": "code",
      "source": [
        "L = [\"Astha\\n\", \"And\\n\", \"sachin\\n\"]\n",
        "\n",
        "# Writing to file\n",
        "file1 = open('myfile.txt', 'w')\n",
        "file1.writelines(L)\n",
        "file1.close()\n",
        "\n",
        "# Opening file\n",
        "file1 = open('myfile.txt', 'r')\n",
        "count = 0\n",
        "\n",
        "# Using for loop\n",
        "print(\"Using for loop\")\n",
        "for line in file1:\n",
        "    count += 1\n",
        "    print(\"Line{}: {}\".format(count, line.strip()))\n",
        "\n",
        "# Closing files\n",
        "file1.close()"
      ],
      "metadata": {
        "colab": {
          "base_uri": "https://localhost:8080/"
        },
        "id": "C4dImeVFkSGk",
        "outputId": "b942969f-cd84-4e82-fbc0-a9ce99e39073"
      },
      "execution_count": null,
      "outputs": [
        {
          "output_type": "stream",
          "name": "stdout",
          "text": [
            "Using for loop\n",
            "Line1: Astha\n",
            "Line2: And\n",
            "Line3: sachin\n"
          ]
        }
      ]
    },
    {
      "cell_type": "markdown",
      "source": [
        "8. Use a lambda function in Python to sort a list of tuples based on the second element of each tuple"
      ],
      "metadata": {
        "id": "1ur3VX4Xkm5a"
      }
    },
    {
      "cell_type": "code",
      "source": [
        "# Example list of tuples\n",
        "data = [(1, 3), (4, 1), (2, 2), (5, 0)]\n",
        "\n",
        "# Sorting based on the second element of each tuple\n",
        "sorted_data = sorted(data, key=lambda x: x[1])\n",
        "\n",
        "print(sorted_data)"
      ],
      "metadata": {
        "colab": {
          "base_uri": "https://localhost:8080/"
        },
        "id": "qqdtLGWoleaZ",
        "outputId": "70548c5d-55d3-44ba-ac95-904724155ff6"
      },
      "execution_count": null,
      "outputs": [
        {
          "output_type": "stream",
          "name": "stdout",
          "text": [
            "[(5, 0), (4, 1), (2, 2), (1, 3)]\n"
          ]
        }
      ]
    },
    {
      "cell_type": "markdown",
      "source": [
        "9.. Write a Python program that uses `map()` to convert a list of temperatures from Celsius to Fahrenheit"
      ],
      "metadata": {
        "id": "3-nE9IpvmMeb"
      }
    },
    {
      "cell_type": "code",
      "source": [
        "# List of temperatures in Celsius\n",
        "temperatures_celsius = [0, 20, 37, 100]\n",
        "\n",
        "# Conversion function: Fahrenheit = (Celsius * 9/5) + 32\n",
        "convert_to_fahrenheit = lambda c: (c * 9/5) + 32\n",
        "\n",
        "# Use map() to apply the conversion to each temperature\n",
        "temperatures_fahrenheit = list(map(convert_to_fahrenheit, temperatures_celsius))\n",
        "\n",
        "# Output the result\n",
        "print(\"Temperatures in Celsius:\", temperatures_celsius)\n",
        "print(\"Temperatures in Fahrenheit:\", temperatures_fahrenheit)"
      ],
      "metadata": {
        "colab": {
          "base_uri": "https://localhost:8080/"
        },
        "id": "jZjdE3XdmtHa",
        "outputId": "05254b97-cb93-4b42-d753-c52cf380402e"
      },
      "execution_count": null,
      "outputs": [
        {
          "output_type": "stream",
          "name": "stdout",
          "text": [
            "Temperatures in Celsius: [0, 20, 37, 100]\n",
            "Temperatures in Fahrenheit: [32.0, 68.0, 98.6, 212.0]\n"
          ]
        }
      ]
    },
    {
      "cell_type": "markdown",
      "source": [
        "10 .Create a Python program that uses `filter()` to remove all the vowels from a given string."
      ],
      "metadata": {
        "id": "Zfb8BfFdmw1C"
      }
    },
    {
      "cell_type": "code",
      "source": [
        "# Input string\n",
        "input_string = \"This is an example string.\"\n",
        "\n",
        "# Define a function to check if a character is not a vowel\n",
        "is_not_vowel = lambda char: char.lower() not in 'aeiou'\n",
        "\n",
        "# Use filter() to remove vowels\n",
        "filtered_string = ''.join(filter(is_not_vowel, input_string))\n",
        "\n",
        "# Output the result\n",
        "print(\"Original string:\", input_string)\n",
        "print(\"String without vowels:\", filtered_string)"
      ],
      "metadata": {
        "colab": {
          "base_uri": "https://localhost:8080/"
        },
        "id": "ty3Tz6H0nCb5",
        "outputId": "4f9aeb7a-ad93-4a60-971e-0ff63c3b31d2"
      },
      "execution_count": null,
      "outputs": [
        {
          "output_type": "stream",
          "name": "stdout",
          "text": [
            "Original string: This is an example string.\n",
            "String without vowels: Ths s n xmpl strng.\n"
          ]
        }
      ]
    },
    {
      "cell_type": "markdown",
      "source": [
        "11.Write a Python program using lambda and map."
      ],
      "metadata": {
        "id": "YA6o_2d_ofQU"
      }
    },
    {
      "cell_type": "code",
      "source": [
        "# List of numbers\n",
        "numbers = [1, 2, 3, 4, 5]\n",
        "\n",
        "# Lambda function to calculate the square of a number\n",
        "square = lambda x: x ** 2\n",
        "\n",
        "# Use map() to apply the lambda function to each element in the list\n",
        "squared_numbers = list(map(square, numbers))\n",
        "\n",
        "# Output the result\n",
        "print(\"Original numbers:\", numbers)\n",
        "print(\"Squared numbers:\", squared_numbers)"
      ],
      "metadata": {
        "colab": {
          "base_uri": "https://localhost:8080/"
        },
        "id": "ZJRk7VianY6G",
        "outputId": "3a4b7930-1e7f-419b-a8eb-003315c3badf"
      },
      "execution_count": null,
      "outputs": [
        {
          "output_type": "stream",
          "name": "stdout",
          "text": [
            "Original numbers: [1, 2, 3, 4, 5]\n",
            "Squared numbers: [1, 4, 9, 16, 25]\n"
          ]
        }
      ]
    },
    {
      "cell_type": "markdown",
      "source": [
        "12.) Imagine an accounting routine used in a book shop. It works on a list with sublists, which look like this:\n",
        "\n",
        "\n",
        "\n",
        "\n",
        "\n",
        "\n",
        "\n",
        "Write a Python program, which returns a list with 2-tuples. Each tuple consists of the order number and the\n",
        "product of the price per item and the quantity. The product should be increased by 10,- € if the value of the\n",
        "order is smaller than 100,00 €."
      ],
      "metadata": {
        "id": "8K16mzfrNXoC"
      }
    },
    {
      "cell_type": "code",
      "source": [
        "book_shop = [\n",
        "    [34587, 'Learning Python, Mark Lutz', 4, 40.95],\n",
        "    [98762, 'Programming Python, Mark Lutz', 5, 56.80],\n",
        "    [77226, 'Head First Python, Paul Barry', 3, 32.95],\n",
        "    [88112, 'Einführung in Python3, Bernd Klein', 3, 24.99]\n",
        "]\n",
        "final_list = list(map(lambda order: (order[0], order[2] * order[3] + 10 if (order[2] * order[3]) < 100 else order[2] * order[3]), book_shop))\n",
        "\n",
        "print(final_list)"
      ],
      "metadata": {
        "id": "LuW0PFvaNcQ5",
        "colab": {
          "base_uri": "https://localhost:8080/"
        },
        "outputId": "5a3fb1b2-67e3-42fc-a9c7-b4d1c0d26cda"
      },
      "execution_count": null,
      "outputs": [
        {
          "output_type": "stream",
          "name": "stdout",
          "text": [
            "[(34587, 163.8), (98762, 284.0), (77226, 108.85000000000001), (88112, 84.97)]\n"
          ]
        }
      ]
    },
    {
      "cell_type": "code",
      "source": [],
      "metadata": {
        "id": "VBvzgtQ_S4vz"
      },
      "execution_count": null,
      "outputs": []
    }
  ]
}